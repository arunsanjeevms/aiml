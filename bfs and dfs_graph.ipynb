{
 "cells": [
  {
   "cell_type": "code",
   "execution_count": 5,
   "id": "7d24068b-da71-4625-9117-b715747f5fa5",
   "metadata": {},
   "outputs": [
    {
     "name": "stdin",
     "output_type": "stream",
     "text": [
      "Enter number of nodes in graph ? :  3\n",
      "Enter a node: a\n",
      "Enter a's  neighboouring nodes by  comma separated :  b,c\n",
      "Enter a node: b\n",
      "Enter b's  neighboouring nodes by  comma separated :  \n",
      "Enter a node: c\n",
      "Enter c's  neighboouring nodes by  comma separated :  \n",
      "Enter the Starting Node:  a\n"
     ]
    },
    {
     "name": "stdout",
     "output_type": "stream",
     "text": [
      "a b  c "
     ]
    }
   ],
   "source": [
    "def get_graph():\n",
    "    graph={}\n",
    "    num_nodes=int(input(\"Enter number of nodes in graph ? : \"))\n",
    "\n",
    "    for _ in range(num_nodes):\n",
    "        node=input(\"Enter a node:\")\n",
    "        neighbours = input(f\"Enter {node}'s  neighboouring nodes by  comma separated : \").split(\",\") # gives a list of values\n",
    "        graph[node]=neighbours\n",
    "    return graph\n",
    "\n",
    "def dfs(graph , node , Visited):\n",
    "    if node not in Visited:\n",
    "        print(node , end =\" \")\n",
    "        Visited.add(node)\n",
    "        for neighbour in graph.get(node,[]):  # using get method from set because if the node (key) doesn't exist it throws error\n",
    "            dfs(graph,neighbour,Visited)\n",
    "\n",
    "Visited = set()\n",
    "graph = get_graph()\n",
    "node = input(\"Enter the Starting Node: \")\n",
    "dfs(graph , node , Visited)"
   ]
  },
  {
   "cell_type": "code",
   "execution_count": null,
   "id": "8d12da8e-3728-4860-bd1d-82cba8311045",
   "metadata": {},
   "outputs": [],
   "source": []
  },
  {
   "cell_type": "code",
   "execution_count": 9,
   "id": "2d160ed9-6d43-48f6-84b0-67e37aecfe4f",
   "metadata": {},
   "outputs": [
    {
     "name": "stdin",
     "output_type": "stream",
     "text": [
      "Enter number of nodes in the graph:  6\n",
      "Enter a node:  a\n",
      "Enter neighbours of a (comma-separated):  b,c,d\n",
      "Enter a node:  b\n",
      "Enter neighbours of b (comma-separated):  a\n",
      "Enter a node:  c\n",
      "Enter neighbours of c (comma-separated):  e,f,a\n",
      "Enter a node:  d\n",
      "Enter neighbours of d (comma-separated):  a,f\n",
      "Enter a node:  e\n",
      "Enter neighbours of e (comma-separated):  c\n",
      "Enter a node:  f\n",
      "Enter neighbours of f (comma-separated):  c,d\n",
      "Enter the starting node:  a\n"
     ]
    },
    {
     "name": "stdout",
     "output_type": "stream",
     "text": [
      "\n",
      "BFS Traversal:\n",
      "a b c d e f "
     ]
    }
   ],
   "source": [
    "from collections import deque\n",
    "\n",
    "def get_graph():\n",
    "    graph = {}\n",
    "    num_nodes = int(input(\"Enter number of nodes in the graph: \"))\n",
    "\n",
    "    for _ in range(num_nodes):\n",
    "        node = input(\"Enter a node: \")\n",
    "        neighbours = input(f\"Enter neighbours of {node} (comma-separated): \").split(\",\")\n",
    "        graph[node] = [n.strip() for n in neighbours]  # remove extra spaces\n",
    "    return graph\n",
    "\n",
    "def bfs(graph, start_node):\n",
    "    visited = set()\n",
    "    queue = deque([start_node])\n",
    "\n",
    "    print(\"\\nBFS Traversal:\")\n",
    "    while queue:\n",
    "        node = queue.popleft()\n",
    "        if node not in visited:\n",
    "            print(node, end=\" \")\n",
    "            visited.add(node)\n",
    "            queue.extend(graph.get(node, []))  # safely get neighbors\n",
    "\n",
    "# Main execution\n",
    "graph = get_graph()\n",
    "start_node = input(\"Enter the starting node: \")\n",
    "bfs(graph, start_node)\n"
   ]
  }
 ],
 "metadata": {
  "kernelspec": {
   "display_name": "Python [conda env:anaconda] *",
   "language": "python",
   "name": "conda-env-anaconda-py"
  },
  "language_info": {
   "codemirror_mode": {
    "name": "ipython",
    "version": 3
   },
   "file_extension": ".py",
   "mimetype": "text/x-python",
   "name": "python",
   "nbconvert_exporter": "python",
   "pygments_lexer": "ipython3",
   "version": "3.12.7"
  }
 },
 "nbformat": 4,
 "nbformat_minor": 5
}
