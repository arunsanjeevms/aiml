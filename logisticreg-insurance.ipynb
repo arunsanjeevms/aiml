{
 "cells": [
  {
   "cell_type": "code",
   "execution_count": 2,
   "id": "5f5d9182-5050-4086-8891-aa6addea2337",
   "metadata": {},
   "outputs": [
    {
     "name": "stdout",
     "output_type": "stream",
     "text": [
      "Dataset preview:\n",
      "   Age  Bought insurance\n",
      "0   22                 0\n",
      "1   25                 0\n",
      "2   47                 1\n",
      "3   52                 0\n",
      "4   46                 1\n"
     ]
    },
    {
     "data": {
      "image/png": "[encoded data removed]",
      "text/plain": [
       "<Figure size 640x480 with 1 Axes>"
      ]
     },
     "metadata": {},
     "output_type": "display_data"
    },
    {
     "name": "stdout",
     "output_type": "stream",
     "text": [
      "Test data preview:\n",
      "   Age\n",
      "6   23\n",
      "7   58\n",
      "\n",
      "Predicted values for test data:\n",
      "[0 1]\n",
      "\n",
      "Model Accuracy: 1.00\n",
      "\n",
      "Predicted probabilities for the test data:\n",
      "[[0.94658073 0.05341927]\n",
      " [0.06642467 0.93357533]]\n",
      "\n",
      "Model coefficient (m): [[0.1576468]]\n",
      "Model intercept (b): [-6.50056102]\n",
      "\n",
      "Predicted probability for age 35: 0.2723\n",
      "Predicted probability for age 43: 0.5691\n"
     ]
    }
   ],
   "source": [
    "import pandas as pd\n",
    "from matplotlib import pyplot as plt\n",
    "from sklearn.model_selection import train_test_split\n",
    "from sklearn.linear_model import LogisticRegression\n",
    "import math\n",
    "\n",
    "try:\n",
    "    df = pd.read_csv(\"C:\\\\Users\\\\sengo\\\\LAB\\\\insurance.csv\")\n",
    "    print(\"Dataset preview:\")\n",
    "    print(df.head())\n",
    "except FileNotFoundError:\n",
    "    print(\"Error: The file 'insurance.csv' was not found. Please check the file path.\")\n",
    "    exit()\n",
    "\n",
    "plt.scatter(df['Age'], df['Bought insurance'], marker='+', color='red')\n",
    "plt.xlabel('Age')\n",
    "plt.ylabel('Bought Insurance (0 = No, 1 = Yes)')\n",
    "plt.title('Age vs Bought Insurance')\n",
    "plt.show()\n",
    "\n",
    "if 'Age' not in df.columns or 'Bought insurance' not in df.columns:\n",
    "    print(\"Error: The dataset does not contain required columns 'Age' and 'Bought insurance'.\")\n",
    "    exit()\n",
    "\n",
    "X_train, X_test, y_train, y_test = train_test_split(df[['Age']], df['Bought insurance'], train_size=0.8)\n",
    "print(\"Test data preview:\")\n",
    "print(X_test.head())\n",
    "\n",
    "model = LogisticRegression()\n",
    "model.fit(X_train, y_train)\n",
    "\n",
    "y_predicted = model.predict(X_test)\n",
    "print(\"\\nPredicted values for test data:\")\n",
    "print(y_predicted)\n",
    "\n",
    "accuracy = model.score(X_test, y_test)\n",
    "print(f\"\\nModel Accuracy: {accuracy:.2f}\")\n",
    "\n",
    "print(\"\\nPredicted probabilities for the test data:\")\n",
    "print(model.predict_proba(X_test))\n",
    "\n",
    "print(\"\\nModel coefficient (m):\", model.coef_)\n",
    "print(\"Model intercept (b):\", model.intercept_)\n",
    "\n",
    "def sigmoid(x):\n",
    "    return 1 / (1 + math.exp(-x))\n",
    "\n",
    "def prediction_function(age):\n",
    "    z = model.coef_[0][0] * age + model.intercept_[0]\n",
    "    y = sigmoid(z)\n",
    "    return y\n",
    "\n",
    "age = 35\n",
    "pred_35 = prediction_function(age)\n",
    "print(f\"\\nPredicted probability for age {age}: {pred_35:.4f}\")\n",
    "\n",
    "age = 43\n",
    "pred_43 = prediction_function(age)\n",
    "print(f\"Predicted probability for age {age}: {pred_43:.4f}\")\n"
   ]
  },
  {
   "cell_type": "code",
   "execution_count": null,
   "id": "caddebec-cff9-4880-99f0-804692753be4",
   "metadata": {},
   "outputs": [],
   "source": []
  }
 ],
 "metadata": {
  "kernelspec": {
   "display_name": "Python 3 (ipykernel)",
   "language": "python",
   "name": "python3"
  },
  "language_info": {
   "codemirror_mode": {
    "name": "ipython",
    "version": 3
   },
   "file_extension": ".py",
   "mimetype": "text/x-python",
   "name": "python",
   "nbconvert_exporter": "python",
   "pygments_lexer": "ipython3",
   "version": "3.12.7"
  }
 },
 "nbformat": 4,
 "nbformat_minor": 5
}
