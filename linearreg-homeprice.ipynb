{
 "cells": [
  {
   "cell_type": "code",
   "execution_count": 1,
   "id": "30f0634e-aa26-4eba-9124-941be18f6a26",
   "metadata": {},
   "outputs": [
    {
     "name": "stdout",
     "output_type": "stream",
     "text": [
      "Mean Squared Error: 1847518337.3775845\n",
      "R-squared: 0.8918877435864873\n",
      "Model Coefficients: [  152.24076853 -5591.98289037 -3788.21617609]\n",
      "Model Intercept: 205091.07412720937\n",
      "Predicted Price for 3000 sqrft, 3 bedrooms, 40 years old: 493508.7840015145\n",
      "Predicted Price for 2500 sqrft, 4 bedrooms, 5 years old: 544383.9830094789\n"
     ]
    },
    {
     "name": "stderr",
     "output_type": "stream",
     "text": [
      "C:\\Users\\sengo\\anaconda3\\Lib\\site-packages\\sklearn\\base.py:493: UserWarning: X does not have valid feature names, but LinearRegression was fitted with feature names\n",
      "  warnings.warn(\n",
      "C:\\Users\\sengo\\anaconda3\\Lib\\site-packages\\sklearn\\base.py:493: UserWarning: X does not have valid feature names, but LinearRegression was fitted with feature names\n",
      "  warnings.warn(\n"
     ]
    }
   ],
   "source": [
    "import pandas as pd\n",
    "from sklearn import linear_model\n",
    "from sklearn.model_selection import train_test_split\n",
    "from sklearn.metrics import mean_squared_error, r2_score\n",
    "\n",
    "df = pd.read_csv(\"C:\\\\Users\\\\sengo\\\\LAB\\\\homeprice.csv\")\n",
    "df.columns = df.columns.str.strip()\n",
    "\n",
    "df['bedrooms'] = df['bedrooms'].fillna(df['bedrooms'].median())\n",
    "df['Age (years)'] = df['Age (years)'].fillna(df['Age (years)'].median())\n",
    "\n",
    "X = df.drop('Price ($)', axis='columns')\n",
    "y = df['Price ($)']\n",
    "\n",
    "X_train, X_test, y_train, y_test = train_test_split(X, y, test_size=0.2, random_state=42)\n",
    "\n",
    "reg = linear_model.LinearRegression()\n",
    "reg.fit(X_train, y_train)\n",
    "\n",
    "y_pred = reg.predict(X_test)\n",
    "\n",
    "mse = mean_squared_error(y_test, y_pred)\n",
    "r2 = r2_score(y_test, y_pred)\n",
    "\n",
    "print(f'Mean Squared Error: {mse}')\n",
    "print(f'R-squared: {r2}')\n",
    "print(f'Model Coefficients: {reg.coef_}')\n",
    "print(f'Model Intercept: {reg.intercept_}')\n",
    "\n",
    "new_data = [[3000, 3, 40]]\n",
    "predicted_price = reg.predict(new_data)\n",
    "print(f'Predicted Price for 3000 sqrft, 3 bedrooms, 40 years old: {predicted_price[0]}')\n",
    "\n",
    "new_data_2 = [[2500, 4, 5]]\n",
    "predicted_price_2 = reg.predict(new_data_2)\n",
    "print(f'Predicted Price for 2500 sqrft, 4 bedrooms, 5 years old: {predicted_price_2[0]}')\n"
   ]
  }
 ],
 "metadata": {
  "kernelspec": {
   "display_name": "Python 3 (ipykernel)",
   "language": "python",
   "name": "python3"
  },
  "language_info": {
   "codemirror_mode": {
    "name": "ipython",
    "version": 3
   },
   "file_extension": ".py",
   "mimetype": "text/x-python",
   "name": "python",
   "nbconvert_exporter": "python",
   "pygments_lexer": "ipython3",
   "version": "3.12.7"
  }
 },
 "nbformat": 4,
 "nbformat_minor": 5
}
