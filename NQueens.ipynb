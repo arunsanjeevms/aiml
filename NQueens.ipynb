{
 "cells": [
  {
   "cell_type": "code",
   "execution_count": 7,
   "id": "6b5ed4bb-abb7-4f67-9523-5047cf8d058a",
   "metadata": {},
   "outputs": [
    {
     "name": "stdin",
     "output_type": "stream",
     "text": [
      "Enter the number of queens:  5\n"
     ]
    },
    {
     "name": "stdout",
     "output_type": "stream",
     "text": [
      "Solution:\n",
      "[1, 0, 0, 0, 0]\n",
      "[0, 0, 1, 0, 0]\n",
      "[0, 0, 0, 0, 1]\n",
      "[0, 1, 0, 0, 0]\n",
      "[0, 0, 0, 1, 0]\n"
     ]
    }
   ],
   "source": [
    "N = int(input(\"Enter the number of queens: \"))\n",
    "\n",
    "board = [[0] * N for _ in range(N)]\n",
    "\n",
    "def attack(row, col):\n",
    "    for i in range(row):\n",
    "        if board[i][col] == 1:\n",
    "            return True\n",
    "        if col - (row - i) >= 0 and board[i][col - (row - i)] == 1:\n",
    "            return True\n",
    "        if col + (row - i) < N and board[i][col + (row - i)] == 1:\n",
    "            return True\n",
    "    return False\n",
    "\n",
    "def N_queens(row=0):\n",
    "    if row == N:\n",
    "        return True\n",
    "    for col in range(N):\n",
    "        if not attack(row, col):\n",
    "            board[row][col] = 1\n",
    "            if N_queens(row + 1):\n",
    "                return True\n",
    "            board[row][col] = 0\n",
    "    return False\n",
    "\n",
    "N_queens()\n",
    "\n",
    "print(\"Solution:\")\n",
    "for row in board:\n",
    "    print(row)\n"
   ]
  }
 ],
 "metadata": {
  "kernelspec": {
   "display_name": "Python 3 (ipykernel)",
   "language": "python",
   "name": "python3"
  },
  "language_info": {
   "codemirror_mode": {
    "name": "ipython",
    "version": 3
   },
   "file_extension": ".py",
   "mimetype": "text/x-python",
   "name": "python",
   "nbconvert_exporter": "python",
   "pygments_lexer": "ipython3",
   "version": "3.12.7"
  }
 },
 "nbformat": 4,
 "nbformat_minor": 5
}
